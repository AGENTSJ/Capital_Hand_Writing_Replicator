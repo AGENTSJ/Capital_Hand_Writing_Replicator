{
 "cells": [
  {
   "cell_type": "code",
   "execution_count": 93,
   "metadata": {},
   "outputs": [],
   "source": [
    "import cv2 as cv\n",
    "import numpy as np\n",
    "import math\n",
    "import matplotlib.pyplot as plt\n",
    "import tensorflow as tf\n",
    "import random\n"
   ]
  },
  {
   "cell_type": "code",
   "execution_count": 94,
   "metadata": {},
   "outputs": [],
   "source": [
    "def display(img):\n",
    "    cv.imshow('img', img)\n",
    "    cv.waitKey(0)\n",
    "    cv.destroyAllWindows()\n",
    "\n",
    "def resize(img,scale = 0.3):\n",
    "    width = int(img.shape[1]*scale)\n",
    "    height = int(img.shape[0]*scale)\n",
    "    dim = (width,height)\n",
    "    return cv.resize(img,dim,interpolation = cv.INTER_AREA)\n",
    "\n",
    "def distance(cord1,cord2):\n",
    "   cord1= np.array(cord1)\n",
    "   cord2 = np.array(cord2)\n",
    "   return math.sqrt(np.sum((cord1-cord2)**2))"
   ]
  },
  {
   "cell_type": "code",
   "execution_count": 95,
   "metadata": {},
   "outputs": [],
   "source": [
    "img = cv.imread(r'D:\\ACtive\\Hand_Writing_Replicator\\MachineLearning\\IMAGES\\cap_alpha.jpg')\n",
    "img = resize(img)\n",
    "\n",
    "gray = cv.cvtColor(img, cv.COLOR_BGR2GRAY)\n",
    "edged = cv.Canny(gray, 50, 200)\n",
    "\n",
    "threshold_value = 128\n",
    "_, binary_image = cv.threshold(gray, threshold_value, 255, cv.THRESH_BINARY)\n",
    "inputBINARY =cv.bitwise_not(binary_image)\n",
    "contours,_ = cv.findContours(edged,cv.RETR_EXTERNAL,cv.CHAIN_APPROX_NONE)\n"
   ]
  },
  {
   "cell_type": "code",
   "execution_count": 96,
   "metadata": {},
   "outputs": [
    {
     "name": "stdout",
     "output_type": "stream",
     "text": [
      "[[266, 456], [150, 452], [399, 440], [657, 437], [616, 434], [612, 429], [504, 419], [508, 414], [619, 410], [647, 406], [612, 403], [147, 341], [273, 336], [380, 333], [265, 332], [377, 328], [496, 300], [490, 296], [600, 285], [677, 276], [796, 267], [149, 215], [262, 209], [364, 190], [480, 183], [805, 178], [576, 167], [664, 156], [778, 147], [151, 80], [255, 71], [345, 68], [557, 60], [446, 53], [545, 40], [646, 23], [745, 20], [1025, 0]]\n",
      "38\n"
     ]
    }
   ],
   "source": [
    "cords =[]\n",
    "test = img.copy()\n",
    "for cont in contours:\n",
    "    x,y,w,h = cv.boundingRect(cont)\n",
    "    cords.append([x,y])\n",
    "print(cords)\n",
    "print(len(cords))\n",
    "cords = np.array(cords)\n"
   ]
  },
  {
   "cell_type": "markdown",
   "metadata": {},
   "source": [
    "# Distance by euclidian formula"
   ]
  },
  {
   "cell_type": "code",
   "execution_count": 97,
   "metadata": {},
   "outputs": [
    {
     "name": "stdout",
     "output_type": "stream",
     "text": [
      "(38, 38)\n"
     ]
    }
   ],
   "source": [
    "Dthresh = 30\n",
    "\n",
    "distanceMatrix=[]\n",
    "\n",
    "for cor1 in cords:\n",
    "\n",
    "    temp=[]\n",
    "    for cor2 in cords:\n",
    "        dist = distance(cord1=cor1,cord2=cor2)\n",
    "        if dist <= Dthresh:\n",
    "            temp.append(1)\n",
    "        else:\n",
    "            temp.append(0)\n",
    "        \n",
    "        \n",
    "    distanceMatrix.append(temp)\n",
    "\n",
    "distanceMatrix = np.array(distanceMatrix)\n",
    "print(distanceMatrix.shape)\n"
   ]
  },
  {
   "cell_type": "code",
   "execution_count": 98,
   "metadata": {},
   "outputs": [
    {
     "data": {
      "image/png": "[encoded data removed]",
      "text/plain": [
       "<Figure size 640x480 with 2 Axes>"
      ]
     },
     "metadata": {},
     "output_type": "display_data"
    }
   ],
   "source": [
    "\n",
    "plt.imshow(distanceMatrix, cmap='viridis', interpolation='nearest')\n",
    "plt.colorbar()\n",
    "plt.title('Matrix Visualization')\n",
    "plt.show()"
   ]
  },
  {
   "cell_type": "markdown",
   "metadata": {},
   "source": [
    "# Finding nearby contours by DPFS algo"
   ]
  },
  {
   "cell_type": "code",
   "execution_count": 99,
   "metadata": {},
   "outputs": [
    {
     "name": "stdout",
     "output_type": "stream",
     "text": [
      "[[0], [1], [2], [3], [4, 5, 8, 8, 10, 9, 10], [6, 7], [11], [12, 14], [13, 15], [16, 17], [18], [19], [20], [21], [22], [23], [24], [25], [26], [27], [28], [29], [30], [31], [32, 34], [33], [35], [36], [37]]\n",
      "29\n"
     ]
    }
   ],
   "source": [
    "visited = []  # stores indexes\n",
    "connected = []  # stores array of connected index\n",
    "collector = []  # stores indexes\n",
    "\n",
    "## uses dpfs\n",
    "def findconnected(submatrix,idx):\n",
    "\n",
    "    if idx not in visited:\n",
    "\n",
    "        visited.append(idx)\n",
    "\n",
    "        if idx not in collector:\n",
    "            collector.append(idx)\n",
    "\n",
    "        for i in range(len(submatrix)):\n",
    "\n",
    "            if submatrix[i]==1:\n",
    "                if i not in visited:\n",
    "                    collector.append(i)\n",
    "        \n",
    "        for nodeidx in collector:\n",
    "            if nodeidx not in visited:\n",
    "                findconnected(distanceMatrix[nodeidx],nodeidx)\n",
    "\n",
    "\n",
    "\n",
    "for runidx in range(len(distanceMatrix)):\n",
    "\n",
    "    findconnected(distanceMatrix[runidx],runidx)\n",
    "    \n",
    "    if len(collector)!=0:\n",
    "        connected.append(collector)\n",
    "    collector=[]\n",
    "\n",
    "print(connected)\n",
    "print(len(connected))\n",
    "    \n"
   ]
  },
  {
   "cell_type": "markdown",
   "metadata": {},
   "source": [
    "# Merging Contours - Predict with model - save into arrays"
   ]
  },
  {
   "cell_type": "code",
   "execution_count": 100,
   "metadata": {},
   "outputs": [],
   "source": [
    "def padding(image):\n",
    "    \n",
    "    original_rows, original_cols = image.shape\n",
    "    padding_rows = 10  \n",
    "    padding_cols = 10  \n",
    "    padded_rows = original_rows + 2 * padding_rows\n",
    "    padded_cols = original_cols + 2 * padding_cols\n",
    "    padded_image = np.zeros((padded_rows, padded_cols), dtype=np.uint8)\n",
    "    padded_image[padding_rows:padding_rows + original_rows, padding_cols:padding_cols + original_cols] = image\n",
    "    image = cv.resize(padded_image,(28,28))\n",
    "    return image"
   ]
  },
  {
   "cell_type": "code",
   "execution_count": null,
   "metadata": {},
   "outputs": [],
   "source": [
    "\n"
   ]
  },
  {
   "cell_type": "code",
   "execution_count": 101,
   "metadata": {},
   "outputs": [
    {
     "name": "stdout",
     "output_type": "stream",
     "text": [
      "1/1 [==============================] - 0s 128ms/step\n",
      "1/1 [==============================] - 0s 24ms/step\n",
      "1/1 [==============================] - 0s 24ms/step\n",
      "1/1 [==============================] - 0s 26ms/step\n",
      "1/1 [==============================] - 0s 24ms/step\n",
      "1/1 [==============================] - 0s 30ms/step\n",
      "1/1 [==============================] - 0s 26ms/step\n",
      "1/1 [==============================] - 0s 25ms/step\n",
      "1/1 [==============================] - 0s 24ms/step\n",
      "1/1 [==============================] - 0s 25ms/step\n",
      "1/1 [==============================] - 0s 25ms/step\n",
      "1/1 [==============================] - 0s 24ms/step\n",
      "1/1 [==============================] - 0s 24ms/step\n",
      "1/1 [==============================] - 0s 24ms/step\n",
      "1/1 [==============================] - 0s 25ms/step\n",
      "1/1 [==============================] - 0s 24ms/step\n",
      "1/1 [==============================] - 0s 24ms/step\n",
      "1/1 [==============================] - 0s 24ms/step\n",
      "1/1 [==============================] - 0s 26ms/step\n",
      "1/1 [==============================] - 0s 36ms/step\n",
      "1/1 [==============================] - 0s 25ms/step\n",
      "1/1 [==============================] - 0s 23ms/step\n",
      "1/1 [==============================] - 0s 24ms/step\n",
      "1/1 [==============================] - 0s 26ms/step\n",
      "1/1 [==============================] - 0s 26ms/step\n",
      "1/1 [==============================] - 0s 24ms/step\n"
     ]
    }
   ],
   "source": [
    "ALP_arr = []\n",
    "Dimn_arr =[]\n",
    "for i in range(26):\n",
    "    ALP_arr.append([])\n",
    "    Dimn_arr.append([])\n",
    "# print(Dimn_arr,len(ALP_arr))\n",
    "alphabets = [chr(y) for y in range(ord(\"A\"),ord(\"Z\")+1) ]\n",
    "\n",
    "model = tf.keras.models.load_model(r\"D:\\ACtive\\Hand_Writing_Replicator\\MachineLearning\\Models\\CAP_9997.h5\")\n",
    "\n",
    "Similar_contour_cluster = []\n",
    "similar_contour_dimen = []\n",
    "\n",
    "for con in connected:\n",
    "    temp = np.array([])\n",
    "\n",
    "    for idx in con:\n",
    "        if len(temp)==0:\n",
    "            temp = contours[idx]\n",
    "        else:\n",
    "            temp = np.concatenate((temp,contours[idx]))\n",
    "    \n",
    "    x,y,w,h = cv.boundingRect(temp)\n",
    "    \n",
    "    if w>12:\n",
    "\n",
    "        Similar_contour_cluster.append(temp)\n",
    "        similar_contour_dimen.append([x,y,w,h])\n",
    "        \n",
    "        image = inputBINARY[y:y+h,x:x+w]\n",
    "        image = padding(image)        \n",
    "        model_Inp = image.reshape(1,28,28)\n",
    "\n",
    "        result =model.predict(model_Inp)\n",
    "        \n",
    "        # cv.drawContours(blank_image, temp, -1, (0, 255, 0), 2)\n",
    "        index = np.argmax(result)\n",
    "        # print(alphabets[index],[w,h])\n",
    "        # display(image)\n",
    "        index = np.argmax(result)\n",
    "        ALP_arr[index].append(binary_image[y:y+h,x:x+w])\n",
    "        Dimn_arr[index].append([w,h])\n",
    "    \n",
    "        \n",
    "# print(similar_contour_dimen[1])\n",
    "        \n",
    "\n",
    "    \n"
   ]
  },
  {
   "cell_type": "code",
   "execution_count": 102,
   "metadata": {},
   "outputs": [
    {
     "name": "stdout",
     "output_type": "stream",
     "text": [
      "[[[40, 58]], [[37, 59]], [[45, 49]], [[41, 49]], [[35, 48]], [], [], [[40, 53], [34, 52]], [[41, 47]], [[44, 43], [39, 60]], [[37, 44]], [], [[46, 40]], [[43, 42]], [[41, 45]], [[32, 58]], [[43, 45], [57, 47]], [[44, 57]], [[33, 48]], [], [[32, 39], [33, 43]], [[38, 42]], [[44, 39]], [[32, 38]], [[34, 51]], [[52, 43]]]\n"
     ]
    }
   ],
   "source": [
    "print(Dimn_arr)"
   ]
  },
  {
   "cell_type": "code",
   "execution_count": 103,
   "metadata": {},
   "outputs": [],
   "source": [
    "# for i in range(len(ALP_arr)):\n",
    "#     for j in range(len(ALP_arr[i])):\n",
    "#         display(ALP_arr[i][j])"
   ]
  },
  {
   "cell_type": "markdown",
   "metadata": {},
   "source": [
    "# Output A4 sheet"
   ]
  },
  {
   "cell_type": "code",
   "execution_count": 104,
   "metadata": {},
   "outputs": [],
   "source": [
    "inputstring = \"hello my name is abhijith sj as of now i am sucessful in creating this replicator and i know there is lot more to add and i can improve many features and i am excited to learn as i move forward facing new problems and finding its solution is as always a great way to spend some time \"\n",
    "# inputstring=\"abcdefghij klmnopqrstuvwxyz\"\n",
    "height = 1000\n",
    "margin_top = int(0.025*height)\n"
   ]
  },
  {
   "cell_type": "code",
   "execution_count": 105,
   "metadata": {},
   "outputs": [
    {
     "name": "stdout",
     "output_type": "stream",
     "text": [
      "{'A': 0, 'B': 1, 'C': 2, 'D': 3, 'E': 4, 'F': 5, 'G': 6, 'H': 7, 'I': 8, 'J': 9, 'K': 10, 'L': 11, 'M': 12, 'N': 13, 'O': 14, 'P': 15, 'Q': 16, 'R': 17, 'S': 18, 'T': 19, 'U': 20, 'V': 21, 'W': 22, 'X': 23, 'Y': 24, 'Z': 25, '0': 26}\n"
     ]
    }
   ],
   "source": [
    "# map alphabet with 0 -26\n",
    "alphabet_dict = {}\n",
    "\n",
    "\n",
    "alphab = \"abcdefghijklmnopqrstuvwxyz0\"## 0 for any un wanted noises\n",
    "\n",
    "for i, letter in enumerate(alphab.upper()):\n",
    "    alphabet_dict[letter] = i\n",
    "print(alphabet_dict)"
   ]
  },
  {
   "cell_type": "code",
   "execution_count": 106,
   "metadata": {},
   "outputs": [
    {
     "name": "stdout",
     "output_type": "stream",
     "text": [
      "new aproach bug fixes.jpg saved\n"
     ]
    }
   ],
   "source": [
    "A4 = np.ones((height,int(height/1.4)),dtype=np.uint8)*255\n",
    "start_height = margin_top\n",
    "start_left = margin_top\n",
    "scale = 0.5#size of font\n",
    "\n",
    "lineheight = 100\n",
    "lineheight = int(lineheight*scale)\n",
    "\n",
    "wordspace = 30\n",
    "wordspace = int(wordspace*scale)\n",
    "\n",
    "shaped = A4.shape\n",
    "for i ,lett in enumerate(inputstring.upper()):\n",
    "\n",
    "    if(lett == \" \"):\n",
    "            start_left = start_left+wordspace\n",
    "    else:\n",
    "         \n",
    "        idx = alphabet_dict[lett]\n",
    "        if len(ALP_arr[idx])!=0:\n",
    "\n",
    "            variety_idx = random.randint(0,len(ALP_arr[idx])-1)\n",
    "\n",
    "            w,h = Dimn_arr[idx][variety_idx]\n",
    "            w,h = int(w*scale),int(h*scale)\n",
    "            \n",
    "            if(start_left+w>=shaped[1]-margin_top):\n",
    "                start_left = margin_top\n",
    "                start_height = start_height+lineheight\n",
    "\n",
    "            alphimg = resize(ALP_arr[idx][variety_idx],scale)\n",
    "\n",
    "            A4[start_height:start_height+h,start_left:start_left+w] = alphimg\n",
    "            start_left = start_left+w\n",
    "\n",
    "    \n",
    "    \n",
    "               \n",
    "\n",
    "display(A4)\n",
    "     \n",
    "desc = input(\"is this good then 1 to discard 0\")\n",
    "if(int(desc)==1):\n",
    "    fname = input(\"name of the image\")\n",
    "    fname = fname+\".jpg\"\n",
    "    cv.imwrite(fname,A4)\n",
    "    print(fname,\"saved\")"
   ]
  }
 ],
 "metadata": {
  "kernelspec": {
   "display_name": "Python 3",
   "language": "python",
   "name": "python3"
  },
  "language_info": {
   "codemirror_mode": {
    "name": "ipython",
    "version": 3
   },
   "file_extension": ".py",
   "mimetype": "text/x-python",
   "name": "python",
   "nbconvert_exporter": "python",
   "pygments_lexer": "ipython3",
   "version": "3.10.11"
  }
 },
 "nbformat": 4,
 "nbformat_minor": 2
}

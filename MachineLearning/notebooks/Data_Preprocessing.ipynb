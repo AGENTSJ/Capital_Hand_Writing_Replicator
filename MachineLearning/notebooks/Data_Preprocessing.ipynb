{
  "cells": [
    {
      "cell_type": "code",
      "execution_count": null,
      "metadata": {
        "id": "z022fXxWreMR"
      },
      "outputs": [],
      "source": [
        "import numpy as np\n",
        "import pandas as pd\n",
        "from tensorflow.keras.utils import to_categorical\n",
        "from sklearn.utils import shuffle\n",
        "from matplotlib import pyplot as plt\n",
        "from sklearn.model_selection import train_test_split\n"
      ]
    },
    {
      "cell_type": "code",
      "execution_count": null,
      "metadata": {
        "id": "fZIaIq4zrSwg"
      },
      "outputs": [],
      "source": [
        "data_root = r\"C:\\Users\\abhij\\Desktop\\works\\python\\machine learnig\\hand writing replicator\\Capital_Handwriting_recon\\Dataset\\A_Z Handwritten Data.csv\\dataset.csv\""
      ]
    },
    {
      "cell_type": "code",
      "execution_count": null,
      "metadata": {
        "id": "ciXKUHP9rgsB"
      },
      "outputs": [],
      "source": [
        "dataset = pd.read_csv(data_root).astype(\"float32\")\n",
        "dataset.rename(columns={'0': \"label\"}, inplace=True)"
      ]
    },
    {
      "cell_type": "code",
      "execution_count": null,
      "metadata": {
        "id": "PYTQQdiQt1hJ"
      },
      "outputs": [],
      "source": [
        "\n",
        "X = dataset.drop(\"label\", axis=1)\n",
        "Y = dataset[\"label\"]\n",
        "\n",
        "X = X.values"
      ]
    },
    {
      "cell_type": "code",
      "execution_count": null,
      "metadata": {
        "colab": {
          "base_uri": "https://localhost:8080/"
        },
        "id": "4iqoW_GQt8tk",
        "outputId": "d8422b02-04ff-4e10-fe25-937a75d3a92b"
      },
      "outputs": [
        {
          "name": "stdout",
          "output_type": "stream",
          "text": [
            "(372450, 784) (372450,)\n"
          ]
        }
      ],
      "source": [
        "print(X.shape, Y.shape)"
      ]
    },
    {
      "cell_type": "code",
      "execution_count": null,
      "metadata": {
        "id": "aD9HYQJ_t8p6"
      },
      "outputs": [],
      "source": [
        "data = []\n",
        "\n",
        "for flatten in X:\n",
        "  image = np.reshape(flatten, (28, 28, 1))\n",
        "  data.append(image)\n",
        "\n",
        "Data = np.array(data, dtype=np.float32)\n",
        "Label = Y"
      ]
    },
    {
      "cell_type": "code",
      "execution_count": null,
      "metadata": {},
      "outputs": [],
      "source": [
        "print(np.unique(Label))"
      ]
    },
    {
      "cell_type": "code",
      "execution_count": null,
      "metadata": {
        "colab": {
          "base_uri": "https://localhost:8080/",
          "height": 922
        },
        "id": "94cd6PjcudMq",
        "outputId": "dee18a6d-e342-4ff1-b874-ecb3618ff61d"
      },
      "outputs": [],
      "source": [
        "shuffled_data = shuffle(X)\n",
        "rows, cols = 10, 10\n",
        "\n",
        "plt.figure(figsize=(20, 20))\n",
        "\n",
        "for i in range(rows * cols):\n",
        "  plt.subplot(cols, rows, i+1)\n",
        "  plt.imshow(shuffled_data[i].reshape(28, 28), interpolation=\"nearest\", cmap=\"gray\")\n",
        "\n",
        "plt.show()"
      ]
    },
    {
      "cell_type": "code",
      "execution_count": null,
      "metadata": {
        "colab": {
          "base_uri": "https://localhost:8080/"
        },
        "id": "qoR_UpZnzCuM",
        "outputId": "04b5621c-3809-4702-e0df-1a89b4094a7a"
      },
      "outputs": [
        {
          "name": "stdout",
          "output_type": "stream",
          "text": [
            "(372450, 28, 28, 1)\n"
          ]
        }
      ],
      "source": [
        "print(X.shape)\n"
      ]
    },
    {
      "cell_type": "code",
      "execution_count": null,
      "metadata": {
        "colab": {
          "base_uri": "https://localhost:8080/"
        },
        "id": "ARjOeo7H2C8k",
        "outputId": "7517b3e1-a291-479d-fe77-eaedad16f1a9"
      },
      "outputs": [
        {
          "name": "stdout",
          "output_type": "stream",
          "text": [
            "(372450, 28, 28, 1) (372450,)\n"
          ]
        }
      ],
      "source": [
        "print(X.shape,Y.shape)"
      ]
    },
    {
      "cell_type": "code",
      "execution_count": null,
      "metadata": {
        "colab": {
          "base_uri": "https://localhost:8080/"
        },
        "id": "psATiTEa2Tca",
        "outputId": "f1f3003d-6ae7-48f5-e4a8-0a3fa16883ee"
      },
      "outputs": [
        {
          "name": "stdout",
          "output_type": "stream",
          "text": [
            "(372450, 28, 28, 1)\n"
          ]
        }
      ],
      "source": [
        "X = X/255.0\n",
        "Y = to_categorical(Y)\n",
        "X = np.reshape(X, (X.shape[0], X.shape[1], X.shape[2], 1))\n",
        "print(X.shape)"
      ]
    },
    {
      "cell_type": "code",
      "execution_count": null,
      "metadata": {
        "id": "uxcs25Nu2yBt"
      },
      "outputs": [],
      "source": [
        "np.savez(\"capalpha.npz\",x=X,y=Y)"
      ]
    }
  ],
  "metadata": {
    "accelerator": "GPU",
    "colab": {
      "gpuType": "T4",
      "provenance": []
    },
    "kernelspec": {
      "display_name": "Python 3",
      "name": "python3"
    },
    "language_info": {
      "name": "python"
    }
  },
  "nbformat": 4,
  "nbformat_minor": 0
}

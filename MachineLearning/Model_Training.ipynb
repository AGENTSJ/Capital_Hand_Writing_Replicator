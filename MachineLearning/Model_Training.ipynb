{
  "cells": [
    {
      "cell_type": "code",
      "execution_count": 2,
      "metadata": {
        "id": "-_ZwrP6Q3_R1"
      },
      "outputs": [],
      "source": [
        "import numpy as np\n",
        "from keras.models import Sequential\n",
        "from sklearn.metrics import confusion_matrix\n",
        "from keras.layers import Conv2D, Activation, MaxPooling2D, Flatten, Dense, Dropout, BatchNormalization\n",
        "from sklearn.model_selection import train_test_split"
      ]
    },
    {
      "cell_type": "code",
      "execution_count": null,
      "metadata": {
        "id": "sRBvZkB141L5"
      },
      "outputs": [],
      "source": []
    },
    {
      "cell_type": "code",
      "execution_count": 3,
      "metadata": {
        "id": "Nkt6YjQ94poH"
      },
      "outputs": [],
      "source": [
        "loaded_data = np.load(r\"C:\\Users\\abhij\\Desktop\\works\\python\\machine learnig\\hand writing replicator\\Capital_Handwriting_recon\\Dataset\\capalpha.npz\")\n",
        "\n",
        "# Access the variables\n",
        "data = loaded_data['x']\n",
        "target = loaded_data['y']"
      ]
    },
    {
      "cell_type": "code",
      "execution_count": 4,
      "metadata": {
        "id": "k7D2Uhpr41yI"
      },
      "outputs": [],
      "source": [
        "train_data, test_data, train_labels, test_labels = train_test_split(data, target, test_size=0.2)"
      ]
    },
    {
      "cell_type": "code",
      "execution_count": null,
      "metadata": {
        "id": "z0LUVVQ54L68"
      },
      "outputs": [],
      "source": [
        "model = Sequential()\n",
        "\n",
        "model.add(Conv2D(32, (5, 5), input_shape=(28, 28, 1), activation=\"relu\"))\n",
        "model.add(BatchNormalization())\n",
        "\n",
        "model.add(Conv2D(32, (5, 5), activation=\"relu\"))\n",
        "model.add(BatchNormalization())\n",
        "model.add(MaxPooling2D(2, 2))\n",
        "model.add(Dropout(0.25))\n",
        "\n",
        "model.add(BatchNormalization())\n",
        "model.add(Flatten())\n",
        "\n",
        "model.add(Dense(256, activation=\"relu\"))\n",
        "model.add(Dense(26, activation=\"softmax\"))\n",
        "\n",
        "model.compile(loss=\"categorical_crossentropy\", optimizer=\"adam\", metrics=[\"accuracy\"])\n",
        "model.summary()"
      ]
    },
    {
      "cell_type": "code",
      "execution_count": 11,
      "metadata": {
        "colab": {
          "base_uri": "https://localhost:8080/"
        },
        "id": "13hCF0DJ4jof",
        "outputId": "878a4c77-e058-4c48-f7e7-3f6f9900df86"
      },
      "outputs": [
        {
          "name": "stdout",
          "output_type": "stream",
          "text": [
            "Epoch 1/10\n",
            "1490/1490 [==============================] - 33s 14ms/step - loss: 0.1082 - accuracy: 0.9696 - val_loss: 0.0607 - val_accuracy: 0.9832\n",
            "Epoch 2/10\n",
            "1490/1490 [==============================] - 20s 13ms/step - loss: 0.0439 - accuracy: 0.9872 - val_loss: 0.0453 - val_accuracy: 0.9877\n",
            "Epoch 3/10\n",
            "1490/1490 [==============================] - 20s 13ms/step - loss: 0.0301 - accuracy: 0.9909 - val_loss: 0.0342 - val_accuracy: 0.9909\n",
            "Epoch 4/10\n",
            "1490/1490 [==============================] - 18s 12ms/step - loss: 0.0231 - accuracy: 0.9924 - val_loss: 0.0368 - val_accuracy: 0.9898\n",
            "Epoch 5/10\n",
            "1490/1490 [==============================] - 20s 13ms/step - loss: 0.0180 - accuracy: 0.9942 - val_loss: 0.0368 - val_accuracy: 0.9905\n",
            "Epoch 6/10\n",
            "1490/1490 [==============================] - 19s 13ms/step - loss: 0.0155 - accuracy: 0.9949 - val_loss: 0.0303 - val_accuracy: 0.9929\n",
            "Epoch 7/10\n",
            "1490/1490 [==============================] - 20s 13ms/step - loss: 0.0124 - accuracy: 0.9958 - val_loss: 0.0260 - val_accuracy: 0.9944\n",
            "Epoch 8/10\n",
            "1490/1490 [==============================] - 19s 12ms/step - loss: 0.0112 - accuracy: 0.9962 - val_loss: 0.0292 - val_accuracy: 0.9935\n",
            "Epoch 9/10\n",
            "1490/1490 [==============================] - 20s 13ms/step - loss: 0.0104 - accuracy: 0.9965 - val_loss: 0.0270 - val_accuracy: 0.9942\n",
            "Epoch 10/10\n",
            "1490/1490 [==============================] - 20s 13ms/step - loss: 0.0080 - accuracy: 0.9972 - val_loss: 0.0276 - val_accuracy: 0.9947\n"
          ]
        }
      ],
      "source": [
        "history = model.fit(\n",
        "    train_data,\n",
        "    train_labels,\n",
        "    validation_data=(test_data, test_labels),\n",
        "    epochs=10,\n",
        "    batch_size=200\n",
        ")"
      ]
    },
    {
      "cell_type": "code",
      "execution_count": 12,
      "metadata": {
        "colab": {
          "base_uri": "https://localhost:8080/"
        },
        "id": "W3WvpXRNEbrf",
        "outputId": "051b293f-4c9e-4eeb-a147-542411a4088b"
      },
      "outputs": [
        {
          "name": "stderr",
          "output_type": "stream",
          "text": [
            "/usr/local/lib/python3.10/dist-packages/keras/src/engine/training.py:3079: UserWarning: You are saving your model as an HDF5 file via `model.save()`. This file format is considered legacy. We recommend using instead the native Keras format, e.g. `model.save('my_model.keras')`.\n",
            "  saving_api.save_model(\n"
          ]
        }
      ],
      "source": [
        "model.save(\"CAP_9972.h5\")"
      ]
    }
  ],
  "metadata": {
    "accelerator": "GPU",
    "colab": {
      "gpuType": "T4",
      "provenance": []
    },
    "kernelspec": {
      "display_name": "Python 3",
      "name": "python3"
    },
    "language_info": {
      "name": "python"
    }
  },
  "nbformat": 4,
  "nbformat_minor": 0
}
